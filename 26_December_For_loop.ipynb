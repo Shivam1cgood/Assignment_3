{
 "cells": [
  {
   "cell_type": "code",
   "execution_count": null,
   "id": "b27ed987-c9c8-4e19-a195-cd99674c406b",
   "metadata": {},
   "outputs": [
    {
     "name": "stdout",
     "output_type": "stream",
     "text": [
      "1 2 3 4 5 6 7 8 9 10 "
     ]
    }
   ],
   "source": [
    "\"\"\"\n",
    "1. Write a Python program to print the numbers from 1 to 10 using a `for` loop.\n",
    "\n",
    "\"\"\"\n",
    "\n",
    "\n",
    "for i in range(1,11):\n",
    "    print(i,end=' ')"
   ]
  },
  {
   "cell_type": "code",
   "execution_count": 51,
   "id": "513e3c8f-ed3d-4172-8936-0da7f8914774",
   "metadata": {},
   "outputs": [
    {
     "name": "stdout",
     "output_type": "stream",
     "text": [
      "Total sum of the list is :  135\n"
     ]
    }
   ],
   "source": [
    "\"\"\"\n",
    "2. Create a program that calculates the sum of all numbers in a list using a `for` loop.\n",
    "\n",
    "\"\"\"\n",
    "\n",
    "\n",
    "l = [2,3,54,73,2,1]\n",
    "s =0\n",
    "for i in l:\n",
    "    s+=i\n",
    "print(\"Total sum of the list is : \",s)"
   ]
  },
  {
   "cell_type": "code",
   "execution_count": 6,
   "id": "ece5e79c-7bb3-4d4f-89fa-4e3862afd39b",
   "metadata": {},
   "outputs": [
    {
     "name": "stdout",
     "output_type": "stream",
     "text": [
      "g n i r t s _ e l p m a x e "
     ]
    }
   ],
   "source": [
    "\"\"\"\n",
    "3. Write a program to print the characters of a string in reverse order using a `for` loop.\n",
    "\"\"\"\n",
    "\n",
    "\n",
    "string = \"example_string\"\n",
    "for i in range(len(string)-1,-1,-1):\n",
    "    print(string[i],end=' ')"
   ]
  },
  {
   "cell_type": "code",
   "execution_count": 9,
   "id": "e189c9a5-9d04-41a1-8411-e755cb663e31",
   "metadata": {},
   "outputs": [
    {
     "name": "stdout",
     "output_type": "stream",
     "text": [
      "120\n"
     ]
    }
   ],
   "source": [
    "\"\"\"\n",
    "4. Develop a program that finds the factorial of a given number using a `for` loop.\n",
    "\"\"\"\n",
    "\n",
    "def factorial(n):\n",
    "    f = 1;\n",
    "    for i in range(1,n+1):\n",
    "        f*=i\n",
    "    return f\n",
    "\n",
    "print(factorial(5))"
   ]
  },
  {
   "cell_type": "code",
   "execution_count": 10,
   "id": "a050541f-4842-45d8-8773-d89f79e2f2ea",
   "metadata": {},
   "outputs": [
    {
     "name": "stdout",
     "output_type": "stream",
     "text": [
      "5 X 1 = 5\n",
      "5 X 2 = 10\n",
      "5 X 3 = 15\n",
      "5 X 4 = 20\n",
      "5 X 5 = 25\n",
      "5 X 6 = 30\n",
      "5 X 7 = 35\n",
      "5 X 8 = 40\n",
      "5 X 9 = 45\n",
      "5 X 10 = 50\n"
     ]
    }
   ],
   "source": [
    "\"\"\"\n",
    "5. Create a program to print the multiplication table of a given number using a `for` loop.\n",
    "\"\"\"\n",
    "\n",
    "def mul_table(n):\n",
    "    for i in range(1,11):\n",
    "        print(f\"{n} X {i} = {n*i}\")\n",
    "\n",
    "mul_table(5)"
   ]
  },
  {
   "cell_type": "code",
   "execution_count": 11,
   "id": "8fbdf2af-5522-4b1a-b2f8-9b02587524e7",
   "metadata": {},
   "outputs": [
    {
     "name": "stdout",
     "output_type": "stream",
     "text": [
      "Even count is :  5\n",
      "Odd count is :  5\n"
     ]
    }
   ],
   "source": [
    "\"\"\"\n",
    "6. Write a program that counts the number of even and odd numbers in a list using a `for` loop.\n",
    "\"\"\"\n",
    "\n",
    "l = [1,2,3,4,5,6,7,8,9,0]\n",
    "even_count =0\n",
    "odd_count=0\n",
    "for i in l:\n",
    "    if i%2 == 0:\n",
    "        even_count+=1\n",
    "    else:\n",
    "        odd_count+=1\n",
    "\n",
    "        \n",
    "print(\"Even count is : \",even_count)\n",
    "print(\"Odd count is : \",odd_count)"
   ]
  },
  {
   "cell_type": "code",
   "execution_count": 12,
   "id": "6933034e-c342-4787-801e-395c2d6efea9",
   "metadata": {},
   "outputs": [
    {
     "name": "stdout",
     "output_type": "stream",
     "text": [
      "square of 1 is 1\n",
      "square of 2 is 4\n",
      "square of 3 is 9\n",
      "square of 4 is 16\n",
      "square of 5 is 25\n"
     ]
    }
   ],
   "source": [
    "\"\"\"\n",
    "7. Develop a program that prints the squares of numbers from 1 to 5 using a `for` loop.\n",
    "\n",
    "\"\"\"\n",
    "\n",
    "for i in range(1,6):\n",
    "    print(f\"square of {i} is {i**2}\")"
   ]
  },
  {
   "cell_type": "code",
   "execution_count": 13,
   "id": "d27e78c7-9a84-424d-8f2d-19d87b05de82",
   "metadata": {},
   "outputs": [
    {
     "name": "stdout",
     "output_type": "stream",
     "text": [
      "length of given string is :  16\n"
     ]
    }
   ],
   "source": [
    "\"\"\"\n",
    "8. Create a program to find the length of a string without using the `len()` function.\n",
    "\"\"\"\n",
    "\n",
    "s = \"length_of_string\"\n",
    "length=0\n",
    "for i in s:\n",
    "    length+=1\n",
    "print(\"length of given string is : \",length)"
   ]
  },
  {
   "cell_type": "code",
   "execution_count": 14,
   "id": "96dbdd1e-02d4-4af2-a67a-4e8e6bc3d185",
   "metadata": {},
   "outputs": [
    {
     "name": "stdout",
     "output_type": "stream",
     "text": [
      "11.625\n"
     ]
    }
   ],
   "source": [
    "\"\"\"\n",
    "9. Write a program that calculates the average of a list of numbers using a `for` loop.\n",
    "\"\"\"\n",
    "def average(l):\n",
    "    s =0\n",
    "    for i in l:\n",
    "        s+=i\n",
    "    return s/len(l)\n",
    "\n",
    "l = [2,1,4,3,2,5,24,52]\n",
    "print(average(l))\n"
   ]
  },
  {
   "cell_type": "code",
   "execution_count": 19,
   "id": "902c4092-4438-49b5-86cf-9d2c9aa84f65",
   "metadata": {},
   "outputs": [
    {
     "name": "stdout",
     "output_type": "stream",
     "text": [
      "0 1 1 2 3 5 8 13 "
     ]
    }
   ],
   "source": [
    "\"\"\"\n",
    "10. Develop a program that prints the first `n` Fibonacci numbers using a `for` loop.\n",
    "\n",
    "\"\"\"\n",
    "\n",
    "\n",
    "def fib(n):\n",
    "    if n<1:\n",
    "        print(\"value should be greater than 0\")\n",
    "    elif n == 1:\n",
    "        print(0)\n",
    "    elif n ==2:\n",
    "        print(0,1)\n",
    "    else:\n",
    "        a = 0\n",
    "        b =1\n",
    "        for i in range(n):\n",
    "            print(a,end=' ')\n",
    "            c = a+b\n",
    "            a = b\n",
    "            b=a\n",
    "            b = c\n",
    "\n",
    "fib(8)"
   ]
  },
  {
   "cell_type": "code",
   "execution_count": 22,
   "id": "c12d0ac8-cf0a-4e77-9c0e-d21ae4f34cb1",
   "metadata": {},
   "outputs": [
    {
     "name": "stdout",
     "output_type": "stream",
     "text": [
      "True\n"
     ]
    }
   ],
   "source": [
    "\"\"\"\n",
    "11. Write a program to check if a given list contains any duplicates using a `for` loop.\n",
    "\n",
    "\"\"\"\n",
    "\n",
    "def has_duplicate(l):\n",
    "    l.sort()\n",
    "    for i in range(1,len(l)):\n",
    "        if(l[i-1] == l[i]):\n",
    "            return True\n",
    "    return False\n",
    "\n",
    "l = [2,4,63,43,63,3,5735,2,452,3,62,3]\n",
    "\n",
    "print(has_duplicate(l))"
   ]
  },
  {
   "cell_type": "code",
   "execution_count": 24,
   "id": "2478aa7e-6c88-4c29-a922-e6fca2e42526",
   "metadata": {},
   "outputs": [
    {
     "name": "stdout",
     "output_type": "stream",
     "text": [
      "2 3 5 7 11 13 17 19 "
     ]
    }
   ],
   "source": [
    "\"\"\"\n",
    "12. Create a program that prints the prime numbers in a given range using a `for` loop.\n",
    "\n",
    "\"\"\"\n",
    "\n",
    "def check_prime(n):\n",
    "    for i in range(2,n//2 +1):\n",
    "        if n%i == 0:\n",
    "            return False;\n",
    "    return True\n",
    "\n",
    "def gen_prime(start,stop):\n",
    "    if(stop < 2):\n",
    "        print(\"no prime numbers between given range\")\n",
    "    for i in range(start,stop+1):\n",
    "        if(check_prime(i)):\n",
    "            print(i,end =' ')\n",
    "            \n",
    "gen_prime(2,20)"
   ]
  },
  {
   "cell_type": "code",
   "execution_count": 26,
   "id": "6bbed71b-7caa-4fdb-94b8-72565cd0a03a",
   "metadata": {},
   "outputs": [
    {
     "name": "stdout",
     "output_type": "stream",
     "text": [
      "4\n"
     ]
    }
   ],
   "source": [
    "\"\"\"\n",
    "13. Develop a program that counts the number of vowels in a string using a `for` loop.\n",
    "\n",
    "\"\"\"\n",
    "def count_vowel(s):\n",
    "    vowel = ['a', 'e', 'i', 'o', 'u', 'A', 'E', 'I', 'O', 'U']\n",
    "    count = 0;\n",
    "    for i in s:\n",
    "        if i in vowel:\n",
    "            count+=1;\n",
    "            \n",
    "    return count\n",
    "\n",
    "s = \"example_string\"\n",
    "print(count_vowel(s))"
   ]
  },
  {
   "cell_type": "code",
   "execution_count": 27,
   "id": "bd3d428f-ce4d-4b3b-80d7-9772cc62c530",
   "metadata": {},
   "outputs": [
    {
     "name": "stdout",
     "output_type": "stream",
     "text": [
      "64\n"
     ]
    }
   ],
   "source": [
    "\"\"\"\n",
    "14. Write a program to find the maximum element in a 2D list using a nested `for` loop.\n",
    "\"\"\"\n",
    "\n",
    "def max_2d(l):\n",
    "    max_el = l[0][0];\n",
    "    for i in range(len(l)):\n",
    "        for j in range(len(l[0])):\n",
    "            if l[i][j] >max_el:\n",
    "                max_el = l[i][j]\n",
    "    return max_el\n",
    "\n",
    "l = [[2,4,5,6],[45,23,52,2],[23,13,64,22]]\n",
    "print(max_2d(l))"
   ]
  },
  {
   "cell_type": "code",
   "execution_count": 29,
   "id": "2223e378-c476-4de1-82c9-f658bc11bdce",
   "metadata": {},
   "outputs": [
    {
     "name": "stdout",
     "output_type": "stream",
     "text": [
      "original list [2, 34, 6, 3, 6, 2, 6, 7, 8, 3, 2, 5]\n",
      "modified list [34, 6, 3, 6, 6, 7, 8, 3, 5]\n"
     ]
    }
   ],
   "source": [
    "\"\"\"\n",
    "15. Create a program that removes all occurrences of a specific element from a list using a `for` loop.\n",
    "\n",
    "\"\"\"\n",
    "\n",
    "def remove_element(l,n):\n",
    "    for i in l:\n",
    "        if i==n:\n",
    "            l.remove(n)\n",
    "    return l\n",
    "\n",
    "l = [2,34,6,3,6,2,6,7,8,3,2,5]\n",
    "print(\"original list\",l)\n",
    "\n",
    "print(\"modified list\",remove_element(l,2))"
   ]
  },
  {
   "cell_type": "code",
   "execution_count": 31,
   "id": "0ed38be1-1016-4cd8-895c-f46ce0ea809c",
   "metadata": {},
   "outputs": [
    {
     "name": "stdout",
     "output_type": "stream",
     "text": [
      "Multiplication table of  1\n",
      "1 X 1 = 1\n",
      "1 X 2 = 2\n",
      "1 X 3 = 3\n",
      "1 X 4 = 4\n",
      "1 X 5 = 5\n",
      "1 X 6 = 6\n",
      "1 X 7 = 7\n",
      "1 X 8 = 8\n",
      "1 X 9 = 9\n",
      "1 X 10 = 10\n",
      "\n",
      "Multiplication table of  2\n",
      "2 X 1 = 2\n",
      "2 X 2 = 4\n",
      "2 X 3 = 6\n",
      "2 X 4 = 8\n",
      "2 X 5 = 10\n",
      "2 X 6 = 12\n",
      "2 X 7 = 14\n",
      "2 X 8 = 16\n",
      "2 X 9 = 18\n",
      "2 X 10 = 20\n",
      "\n",
      "Multiplication table of  3\n",
      "3 X 1 = 3\n",
      "3 X 2 = 6\n",
      "3 X 3 = 9\n",
      "3 X 4 = 12\n",
      "3 X 5 = 15\n",
      "3 X 6 = 18\n",
      "3 X 7 = 21\n",
      "3 X 8 = 24\n",
      "3 X 9 = 27\n",
      "3 X 10 = 30\n",
      "\n",
      "Multiplication table of  4\n",
      "4 X 1 = 4\n",
      "4 X 2 = 8\n",
      "4 X 3 = 12\n",
      "4 X 4 = 16\n",
      "4 X 5 = 20\n",
      "4 X 6 = 24\n",
      "4 X 7 = 28\n",
      "4 X 8 = 32\n",
      "4 X 9 = 36\n",
      "4 X 10 = 40\n",
      "\n",
      "Multiplication table of  5\n",
      "5 X 1 = 5\n",
      "5 X 2 = 10\n",
      "5 X 3 = 15\n",
      "5 X 4 = 20\n",
      "5 X 5 = 25\n",
      "5 X 6 = 30\n",
      "5 X 7 = 35\n",
      "5 X 8 = 40\n",
      "5 X 9 = 45\n",
      "5 X 10 = 50\n",
      "\n"
     ]
    }
   ],
   "source": [
    "\"\"\"\n",
    "16. Develop a program that generates a multiplication table for numbers from 1 to 5 using a nested `for` loop.\n",
    "\"\"\"\n",
    "\n",
    "for i in range(1,6):\n",
    "    print(\"Multiplication table of \",i)\n",
    "    for j in range(1,11):\n",
    "        print(f\"{i} X {j} = {i*j}\")\n",
    "    print()\n",
    "    "
   ]
  },
  {
   "cell_type": "code",
   "execution_count": 34,
   "id": "31f917ea-d28e-45d2-a5a7-dde083df9ed4",
   "metadata": {},
   "outputs": [
    {
     "name": "stdout",
     "output_type": "stream",
     "text": [
      "temperature in celsius are : \n",
      "[-17.77777777777778, 0.0, 36.0, 12.777777777777779]\n"
     ]
    }
   ],
   "source": [
    "\"\"\"\n",
    "17. Write a program that converts a list of Fahrenheit temperatures to Celsius using a `for` loop.\n",
    "\"\"\"\n",
    "\n",
    "def to_celsius(l):\n",
    "    cel = []\n",
    "    for i in l:\n",
    "        c = (i-32)*5/9\n",
    "        cel.append(c)\n",
    "    return cel\n",
    "\n",
    "temp_fah = [0,32,96.8,55]\n",
    "print(\"temperature in celsius are : \")\n",
    "print(to_celsius(temp_fah))"
   ]
  },
  {
   "cell_type": "code",
   "execution_count": 38,
   "id": "a9ee62b4-353e-4ada-a0c9-ad3c0614e9bf",
   "metadata": {},
   "outputs": [
    {
     "name": "stdout",
     "output_type": "stream",
     "text": [
      "[1, 2, 3, 4, 5]\n"
     ]
    }
   ],
   "source": [
    "\"\"\"\n",
    "18. Create a program to print the common elements from two lists using a `for` loop.\n",
    "\"\"\"\n",
    "def common_elements(l1,l2):\n",
    "    common = set()\n",
    "    for i in l1:\n",
    "        if i in l2:\n",
    "            common.add(i)\n",
    "    return list(common)\n",
    "l1= [2,3,2,52,43,5,5,25,24,4,1]\n",
    "l2 = [34,2,14,2,45,1,42,4,4,5,23,3,45,32]\n",
    "print(common_elements(l1,l2))\n"
   ]
  },
  {
   "cell_type": "code",
   "execution_count": 43,
   "id": "023cd730-5af3-49c0-b75d-cfc5ef6ecaaa",
   "metadata": {},
   "outputs": [
    {
     "name": "stdout",
     "output_type": "stream",
     "text": [
      "* \n",
      "* * \n",
      "* * * \n",
      "* * * * \n",
      "* * * * * \n"
     ]
    }
   ],
   "source": [
    "\"\"\"\n",
    "19. Develop a program that prints the pattern of right-angled triangles using a `for` loop. Use ‘*’ to draw the\n",
    "pattern\n",
    "\"\"\"\n",
    "\n",
    "def right_triangle_pattern(row):\n",
    "    for i in range(row):\n",
    "        for i in range(i+1):\n",
    "            print(\"*\",end = ' ')\n",
    "        print()\n",
    "            \n",
    "right_triangle_pattern(5)"
   ]
  },
  {
   "cell_type": "code",
   "execution_count": 45,
   "id": "8533cda8-cbfd-4826-b6bc-d7c0b751e328",
   "metadata": {},
   "outputs": [
    {
     "name": "stdout",
     "output_type": "stream",
     "text": [
      "2\n"
     ]
    }
   ],
   "source": [
    "\"\"\"\n",
    "20. Write a program to find the greatest common divisor (GCD) of two numbers using a `for` loop.\n",
    "\n",
    "\"\"\"\n",
    "\n",
    "def gcd(a,b):\n",
    "    div = 1\n",
    "    for i in range(2,min(a,b)+1):\n",
    "        if a%i == 0 and b%i == 0 and div < i:\n",
    "            div = i\n",
    "    return div\n",
    "\n",
    "print(gcd(12,14))"
   ]
  },
  {
   "cell_type": "code",
   "execution_count": 6,
   "id": "0532eecb-d9b6-4d9d-9640-82435442d6b8",
   "metadata": {},
   "outputs": [
    {
     "name": "stdout",
     "output_type": "stream",
     "text": [
      "[9, 13, 11, 17]\n"
     ]
    }
   ],
   "source": [
    "\"\"\"\n",
    "21. Create a program that calculates the sum of the digits of numbers in a list using a list comprehension.\n",
    "\"\"\"\n",
    "\n",
    "def dig_sum(n):\n",
    "    s = sum(int(i) for i in str(n))\n",
    "    return s\n",
    "def calc_sum(l):\n",
    "    return [dig_sum(i) for i in l]\n",
    "\n",
    "l = [423,643,632,764]\n",
    "print(calc_sum(l))"
   ]
  },
  {
   "cell_type": "code",
   "execution_count": 8,
   "id": "4dff493b-7b91-4322-bc97-0f07f1ec531b",
   "metadata": {},
   "outputs": [
    {
     "name": "stdout",
     "output_type": "stream",
     "text": [
      "[2, 5]\n"
     ]
    }
   ],
   "source": [
    "\"\"\"\n",
    "22. Write a program to find the prime factors of a given number using a `for` loop and list comprehension.\n",
    "\"\"\"\n",
    "def is_prime(n):\n",
    "    for i in range(2,n//2):\n",
    "        if n%i == 0:\n",
    "            return False;\n",
    "    return True\n",
    "\n",
    "\n",
    "def prime_factors(n):\n",
    "    return [i for i in range(2,n+1) if is_prime(i) and n%i == 0]\n",
    "\n",
    "print(prime_factors(10))\n",
    "    "
   ]
  },
  {
   "cell_type": "code",
   "execution_count": 1,
   "id": "cf9c6c77-49b7-41f8-8573-3c6c97aa9697",
   "metadata": {},
   "outputs": [
    {
     "name": "stdout",
     "output_type": "stream",
     "text": [
      "[2, 5, 45, 36, 92, 52, 42, 8, 58, 23, 1]\n"
     ]
    }
   ],
   "source": [
    "\"\"\"\n",
    "23. Develop a program that extracts unique elements from a list and stores them in a new list using a list\n",
    "comprehension.\n",
    "\"\"\"\n",
    "\n",
    "def extract_unique(l):\n",
    "    new_list = []\n",
    "    [new_list.append(i) for i in l if i not in new_list]\n",
    "    return new_list\n",
    "    \n",
    "\n",
    "l = [2,5,2,5,2,45,36,2,5,92,52,42,8,58,23,1]\n",
    "print(extract_unique(l))\n",
    "    "
   ]
  },
  {
   "cell_type": "code",
   "execution_count": 4,
   "id": "a8cfeddb-0647-46b6-8824-a2abfa0dfccc",
   "metadata": {},
   "outputs": [
    {
     "name": "stdout",
     "output_type": "stream",
     "text": [
      "[1, 2, 3, 4, 5, 6, 7, 8, 9, 11, 22]\n"
     ]
    }
   ],
   "source": [
    "\"\"\"\n",
    "24. Create a program that generates a list of all palindromic numbers up to a specified limit using a list\n",
    "comprehension.\n",
    "\n",
    "\"\"\"\n",
    "\n",
    "\n",
    "def is_palindrome(n):\n",
    "        s= str(n)\n",
    "        for i in range(len(s)//2):\n",
    "            if s[i] != s[-i-1]:\n",
    "                \n",
    "                return False\n",
    "        return True\n",
    "    \n",
    "def gen_palindrome_num(n):\n",
    "    return [i for i in range(1,n+1) if is_palindrome(i)]\n",
    "\n",
    "print(gen_palindrome_num(30))\n",
    "    "
   ]
  },
  {
   "cell_type": "code",
   "execution_count": 7,
   "id": "aa17a418-4a53-45ec-a354-fcfdc56d4de2",
   "metadata": {},
   "outputs": [
    {
     "name": "stdout",
     "output_type": "stream",
     "text": [
      "[3, 52, 56, 7, 52, 5, 7, 3, 53, 6, 3, 2, 5, 63, 66, 57, 8, 45, 7, 54, 68, 44, 2, 7, 2]\n"
     ]
    }
   ],
   "source": [
    "\"\"\"\n",
    "25. Write a program to flatten a nested list using list comprehension.\n",
    "\"\"\"\n",
    "\n",
    "def flat_list(l):\n",
    "    flat = [sub for i in l for sub in (flat_list(i) if isinstance(i,list) else [i])]\n",
    "    return flat\n",
    "    \n",
    "    \n",
    "l = [3,52,[56,[7,52,[5,7,3],53],6],3,2,[5,63,[66,57,8,45],7,54,68,44],2,7,2]\n",
    "print(flat_list(l))"
   ]
  },
  {
   "cell_type": "code",
   "execution_count": 1,
   "id": "e2f418af-d6bb-4926-81e0-50c283372161",
   "metadata": {},
   "outputs": [
    {
     "name": "stdout",
     "output_type": "stream",
     "text": [
      "Even sum  20\n",
      "odd sum  25\n"
     ]
    }
   ],
   "source": [
    "\"\"\"\n",
    "26. Develop a program that computes the sum of even and odd numbers in a list separately using list\n",
    "comprehension.\n",
    "\n",
    "\"\"\"\n",
    "def even_odd_sum(l):\n",
    "    even = [i for i in l if i%2 == 0]\n",
    "    odd = [i for i in l if i%2 != 0]\n",
    "    return sum(even),sum(odd)\n",
    "\n",
    "l  = [1,2,3,4,5,6,7,8,9]\n",
    "even_sum ,odd_sum = even_odd_sum(l)\n",
    "\n",
    "print(\"Even sum \",even_sum)\n",
    "print(\"odd sum \",odd_sum)\n",
    "\n",
    "\n"
   ]
  },
  {
   "cell_type": "code",
   "execution_count": 2,
   "id": "38c65da7-8b5b-4812-b156-d28b643eeefb",
   "metadata": {},
   "outputs": [
    {
     "name": "stdout",
     "output_type": "stream",
     "text": [
      "[1, 9, 25, 49, 81]\n"
     ]
    }
   ],
   "source": [
    "\"\"\"\n",
    "27. Create a program that generates a list of squares of odd numbers between 1 and 10 using list\n",
    "comprehension.\n",
    "\"\"\"\n",
    "\n",
    "\n",
    "odd_square = [i**2 for i in range(1,11) if i% 2 != 0]\n",
    "print(odd_square)"
   ]
  },
  {
   "cell_type": "code",
   "execution_count": 7,
   "id": "ca07e27a-fd4b-44f7-9f1a-ec28f331c07a",
   "metadata": {},
   "outputs": [
    {
     "name": "stdout",
     "output_type": "stream",
     "text": [
      "{'a': 1, 'b': 2, 'c': 3, 'd': 4, 'e': 5}\n"
     ]
    }
   ],
   "source": [
    "\"\"\"\n",
    "28. Write a program that combines two lists into a dictionary using list comprehension.\n",
    "\"\"\"\n",
    "\n",
    "\n",
    "def create_dictionary(a,b):\n",
    "    d = {i:j for i,j in zip(a,b)}\n",
    "   \n",
    "    return d\n",
    "\n",
    "l1 = ['a','b','c','d','e']\n",
    "l2=[1,2,3,4,5]\n",
    "print(create_dictionary(l1,l2))"
   ]
  },
  {
   "cell_type": "code",
   "execution_count": 9,
   "id": "a6d976a4-a0f0-4927-9ce2-885244fbd133",
   "metadata": {},
   "outputs": [
    {
     "name": "stdout",
     "output_type": "stream",
     "text": [
      "['e', 'a', 'e', 'i']\n"
     ]
    }
   ],
   "source": [
    "\"\"\"\n",
    "29. Develop a program that extracts the vowels from a string and stores them in a list using list comprehension.\n",
    "\"\"\"\n",
    "\n",
    "def extract_vowel(s):\n",
    "    vowel = ['a', 'e', 'i', 'o', 'u', 'A', 'E', 'I', 'O', 'U']\n",
    "    v = [i for i in s if i in vowel]\n",
    "    return v\n",
    "\n",
    "string = \"example_string\"\n",
    "print(extract_vowel(string))"
   ]
  },
  {
   "cell_type": "code",
   "execution_count": 15,
   "id": "6eb3a3ef-9ca8-4b4e-9efe-4e928183dafb",
   "metadata": {},
   "outputs": [
    {
     "name": "stdout",
     "output_type": "stream",
     "text": [
      "['24', '545', '258836', '353']\n"
     ]
    }
   ],
   "source": [
    "\"\"\"\n",
    "30. Create a program that removes all non-numeric characters from a list of strings using list comprehension.\n",
    "\"\"\"\n",
    "\n",
    "\n",
    "def keep_numeric(l):\n",
    "    non_numeric = [\"\".join(i for i in string if i.isdigit()) for string in l ]\n",
    "    return non_numeric\n",
    "\n",
    "l = [\"sodf24t@$\",\"kjxb545\",\"258xbc8f36z\",\"sdb353@#\"]\n",
    "print(keep_numeric(l))"
   ]
  },
  {
   "cell_type": "code",
   "execution_count": 17,
   "id": "f78a6f3f-6114-4c19-a4e1-e3bde9deda7e",
   "metadata": {},
   "outputs": [
    {
     "name": "stdout",
     "output_type": "stream",
     "text": [
      "[2, 3, 5, 7, 11, 13, 17, 19, 23, 29, 31, 37, 41, 43, 47]\n"
     ]
    }
   ],
   "source": [
    "\"\"\"\n",
    "31. Write a program to generate a list of prime numbers using the Sieve of Eratosthenes algorithm and list\n",
    "comprehension.\n",
    "\"\"\"\n",
    "\n",
    "def sieve_eratosthene(n):\n",
    "    prime = [True for i in range(n+1)]\n",
    "    p=2\n",
    "    while p*p <= n:\n",
    "        if prime[p]:\n",
    "            for i in range(p*p,n+1,p):\n",
    "                prime[i] = False\n",
    "        p+=1\n",
    "    return [i for i in range(2,n+1) if prime[i]]\n",
    "\n",
    "print(sieve_eratosthene(50))\n",
    "    \n",
    "    \n"
   ]
  },
  {
   "cell_type": "code",
   "execution_count": 21,
   "id": "918fd0e6-c2d6-49bf-ab45-4560058a95e3",
   "metadata": {},
   "outputs": [
    {
     "name": "stdout",
     "output_type": "stream",
     "text": [
      "[(3, 4, 5), (5, 12, 13), (6, 8, 10), (8, 15, 17), (9, 12, 15), (12, 16, 20)]\n"
     ]
    }
   ],
   "source": [
    "\"\"\"\n",
    "32. Create a program that generates a list of all Pythagorean triplets up to a specified limit using list\n",
    "comprehension.\n",
    "\"\"\"\n",
    "\n",
    "\n",
    "def p_triplet(n):\n",
    "    return [(a,b,c) for a in range(1,n+1) for b in range(a,n+1) for c in range(b,n+1) if a**2 + b**2 == c**2]\n",
    "\n",
    "print(p_triplet(20))"
   ]
  },
  {
   "cell_type": "code",
   "execution_count": 23,
   "id": "111aff08-bd0c-4c34-8f43-5a37ca6f2855",
   "metadata": {},
   "outputs": [
    {
     "name": "stdout",
     "output_type": "stream",
     "text": [
      "[(1, 'a'), (1, 'b'), (1, 'c'), (2, 'a'), (2, 'b'), (2, 'c'), (3, 'a'), (3, 'b'), (3, 'c')]\n"
     ]
    }
   ],
   "source": [
    "\"\"\"\n",
    "33. Develop a program that generates a list of all possible combinations of two lists using list comprehension\n",
    "\"\"\"\n",
    "\n",
    "def combination(l1,l2):\n",
    "    return [(a,b) for a in l1 for b in l2]\n",
    "\n",
    "l1 = [1,2,3]\n",
    "l2 = ['a','b','c']\n",
    "print(combination(l1,l2))"
   ]
  },
  {
   "cell_type": "code",
   "execution_count": 6,
   "id": "c1eaab6a-8396-4776-abce-f9a4489167d2",
   "metadata": {},
   "outputs": [
    {
     "name": "stdout",
     "output_type": "stream",
     "text": [
      " mean : 31.8125 median : 8.0 mode : 9\n"
     ]
    }
   ],
   "source": [
    "\"\"\"\n",
    "34. Write a program that calculates the mean, median, and mode of a list of numbers using list\n",
    "comprehension.\n",
    "\"\"\"\n",
    "\n",
    "def mean_median_mode(l):\n",
    "    mean = sum(l)/len(l)\n",
    "    \n",
    "    l.sort()\n",
    "    mid = len(l)//2\n",
    "    median = 0\n",
    "    if(len(l) %2 == 0):\n",
    "        median = (l[mid] +l[mid+1])/2\n",
    "    else:\n",
    "        median = l[mid]\n",
    "        \n",
    "    \n",
    "    \n",
    "    s = set(l)\n",
    "    d= [ (i,l.count(i) ) for i in s]\n",
    "    mode =  sorted(d,key = lambda x : x[1])[-1][1]\n",
    "    \n",
    "    return mean,median,mode\n",
    "\n",
    "l = [1,1,11,3,2,2,3,44,7,67,7,644,3,2,5,5,7,7,4,88,8,8,9,9,8,9,9,9,9,9,9,9]\n",
    "mean,median,mode = mean_median_mode(l)\n",
    "print(f\" mean : {mean} median : {median} mode : {mode}\")\n",
    "    \n",
    "    \n",
    "    "
   ]
  },
  {
   "cell_type": "code",
   "execution_count": 14,
   "id": "50a45740-76e9-4268-9638-cbfe728d8f52",
   "metadata": {},
   "outputs": [
    {
     "name": "stdout",
     "output_type": "stream",
     "text": [
      "[[1], [1, 1.0], [1, 2.0, 1.0], [1, 3.0, 3.0, 1.0], [1, 4.0, 6.0, 4.0, 1.0]]\n"
     ]
    }
   ],
   "source": [
    "\"\"\"\n",
    "35. Create a program that generates Pascal's triangle up to a specified number of rows using list\n",
    "comprehension.\n",
    "\"\"\"\n",
    "\n",
    "def pascal(n):\n",
    "    if n == 1:\n",
    "        return [1]\n",
    "    l =[]\n",
    "    l.append(1)\n",
    "    ans =1\n",
    "    for i in range(1,n):\n",
    "        ans*=n-i\n",
    "        ans/=i\n",
    "        l.append(ans)\n",
    "    \n",
    "    return l\n",
    "\n",
    "def gen_pascals_triangle(n):\n",
    "    return [pascal(i+1) for i in range(n)]\n",
    "\n",
    "print(gen_pascals_triangle(5))\n"
   ]
  },
  {
   "cell_type": "code",
   "execution_count": 36,
   "id": "b5a5726e-8900-48e0-a627-d379ca38b510",
   "metadata": {},
   "outputs": [
    {
     "name": "stdout",
     "output_type": "stream",
     "text": [
      "[1, 2, 6, 6, 3]\n"
     ]
    }
   ],
   "source": [
    "\"\"\"\n",
    "36. Develop a program that calculates the sum of the digits of a factorial of numbers from 1 to 5 using list\n",
    "comprehension.\n",
    "\"\"\"\n",
    "\n",
    "\n",
    "def fact(n):\n",
    "    if n == 0:\n",
    "        return 1\n",
    "    x=1\n",
    "    for i in range(1,n+1):\n",
    "        x*=i\n",
    "    return x\n",
    "\n",
    "dig_sum_of_fact = [sum(int(dig) for dig in str(fact(i))) for i in range(1,6)]\n",
    "print(dig_sum_of_fact)"
   ]
  },
  {
   "cell_type": "code",
   "execution_count": 24,
   "id": "1672e21e-5c7d-40a5-8ed0-9414f355d5e4",
   "metadata": {},
   "outputs": [
    {
     "name": "stdout",
     "output_type": "stream",
     "text": [
      " Longest word in given sentence is : comprehension\n"
     ]
    }
   ],
   "source": [
    "\"\"\"\n",
    "37. Write a program that finds the longest word in a sentence using list comprehension.\n",
    "\"\"\"\n",
    "\n",
    "s = \"Write a program that finds the longest word in a sentence using list comprehension\"\n",
    "l = s.split()\n",
    "length = [len(i) for i in l]\n",
    "longest = length.index(max(length))\n",
    "print(f\" Longest word in given sentence is : {l[longest]}\")"
   ]
  },
  {
   "cell_type": "code",
   "execution_count": 31,
   "id": "610cadad-6311-4334-b773-35f154198431",
   "metadata": {},
   "outputs": [
    {
     "name": "stdout",
     "output_type": "stream",
     "text": [
      "['comprehension']\n"
     ]
    }
   ],
   "source": [
    "\"\"\"\n",
    "38. Create a program that filters a list of strings to include only those with more than three vowels using list\n",
    "comprehension\n",
    "\"\"\"\n",
    "\n",
    "def count_vowel(s):\n",
    "    vowels = ['a', 'e', 'i', 'o', 'u', 'A', 'E', 'I', 'O', 'U']\n",
    "    count =0\n",
    "    for i in s :\n",
    "        if i in vowels:\n",
    "            count+=1\n",
    "    return count\n",
    "\n",
    "l = ['Write', 'a', 'program', 'that', 'finds', 'the', 'longest', 'word', 'in', 'a', 'sentence', 'using', 'list', 'comprehension']\n",
    "\n",
    "filtered_list = [i for i in l if count_vowel(i)>3]\n",
    "print(filtered_list)"
   ]
  },
  {
   "cell_type": "code",
   "execution_count": 34,
   "id": "eafc6fc6-6692-4950-98c1-13823ec6f32d",
   "metadata": {},
   "outputs": [
    {
     "name": "stdout",
     "output_type": "stream",
     "text": [
      "[1, 2, 3, 4, 5, 6, 7, 8, 9, 1, 2, 3, 4, 5, 6, 7, 8, 9, 10, 2, 3, 4, 5, 6, 7, 8, 9, 10, 11, 3, 4, 5, 6, 7, 8, 9, 10, 11, 12, 4, 5, 6, 7, 8, 9, 10, 11, 12, 13, 5, 6, 7, 8, 9, 10, 11, 12, 13, 14, 6, 7, 8, 9, 10, 11, 12, 13, 14, 15, 7, 8, 9, 10, 11, 12, 13, 14, 15, 16, 8, 9, 10, 11, 12, 13, 14, 15, 16, 17, 9, 10, 11, 12, 13, 14, 15, 16, 17, 18, 1, 2, 3, 4, 5, 6, 7, 8, 9, 10, 2, 3, 4, 5, 6, 7, 8, 9, 10, 11, 3, 4, 5, 6, 7, 8, 9, 10, 11, 12, 4, 5, 6, 7, 8, 9, 10, 11, 12, 13, 5, 6, 7, 8, 9, 10, 11, 12, 13, 14, 6, 7, 8, 9, 10, 11, 12, 13, 14, 15, 7, 8, 9, 10, 11, 12, 13, 14, 15, 16, 8, 9, 10, 11, 12, 13, 14, 15, 16, 17, 9, 10, 11, 12, 13, 14, 15, 16, 17, 18, 10, 11, 12, 13, 14, 15, 16, 17, 18, 19, 2, 3, 4, 5, 6, 7, 8, 9, 10, 11, 3, 4, 5, 6, 7, 8, 9, 10, 11, 12, 4, 5, 6, 7, 8, 9, 10, 11, 12, 13, 5, 6, 7, 8, 9, 10, 11, 12, 13, 14, 6, 7, 8, 9, 10, 11, 12, 13, 14, 15, 7, 8, 9, 10, 11, 12, 13, 14, 15, 16, 8, 9, 10, 11, 12, 13, 14, 15, 16, 17, 9, 10, 11, 12, 13, 14, 15, 16, 17, 18, 10, 11, 12, 13, 14, 15, 16, 17, 18, 19, 11, 12, 13, 14, 15, 16, 17, 18, 19, 20, 3, 4, 5, 6, 7, 8, 9, 10, 11, 12, 4, 5, 6, 7, 8, 9, 10, 11, 12, 13, 5, 6, 7, 8, 9, 10, 11, 12, 13, 14, 6, 7, 8, 9, 10, 11, 12, 13, 14, 15, 7, 8, 9, 10, 11, 12, 13, 14, 15, 16, 8, 9, 10, 11, 12, 13, 14, 15, 16, 17, 9, 10, 11, 12, 13, 14, 15, 16, 17, 18, 10, 11, 12, 13, 14, 15, 16, 17, 18, 19, 11, 12, 13, 14, 15, 16, 17, 18, 19, 20, 12, 13, 14, 15, 16, 17, 18, 19, 20, 21, 4, 5, 6, 7, 8, 9, 10, 11, 12, 13, 5, 6, 7, 8, 9, 10, 11, 12, 13, 14, 6, 7, 8, 9, 10, 11, 12, 13, 14, 15, 7, 8, 9, 10, 11, 12, 13, 14, 15, 16, 8, 9, 10, 11, 12, 13, 14, 15, 16, 17, 9, 10, 11, 12, 13, 14, 15, 16, 17, 18, 10, 11, 12, 13, 14, 15, 16, 17, 18, 19, 11, 12, 13, 14, 15, 16, 17, 18, 19, 20, 12, 13, 14, 15, 16, 17, 18, 19, 20, 21, 13, 14, 15, 16, 17, 18, 19, 20, 21, 22, 5, 6, 7, 8, 9, 10, 11, 12, 13, 14, 6, 7, 8, 9, 10, 11, 12, 13, 14, 15, 7, 8, 9, 10, 11, 12, 13, 14, 15, 16, 8, 9, 10, 11, 12, 13, 14, 15, 16, 17, 9, 10, 11, 12, 13, 14, 15, 16, 17, 18, 10, 11, 12, 13, 14, 15, 16, 17, 18, 19, 11, 12, 13, 14, 15, 16, 17, 18, 19, 20, 12, 13, 14, 15, 16, 17, 18, 19, 20, 21, 13, 14, 15, 16, 17, 18, 19, 20, 21, 22, 14, 15, 16, 17, 18, 19, 20, 21, 22, 23, 6, 7, 8, 9, 10, 11, 12, 13, 14, 15, 7, 8, 9, 10, 11, 12, 13, 14, 15, 16, 8, 9, 10, 11, 12, 13, 14, 15, 16, 17, 9, 10, 11, 12, 13, 14, 15, 16, 17, 18, 10, 11, 12, 13, 14, 15, 16, 17, 18, 19, 11, 12, 13, 14, 15, 16, 17, 18, 19, 20, 12, 13, 14, 15, 16, 17, 18, 19, 20, 21, 13, 14, 15, 16, 17, 18, 19, 20, 21, 22, 14, 15, 16, 17, 18, 19, 20, 21, 22, 23, 15, 16, 17, 18, 19, 20, 21, 22, 23, 24, 7, 8, 9, 10, 11, 12, 13, 14, 15, 16, 8, 9, 10, 11, 12, 13, 14, 15, 16, 17, 9, 10, 11, 12, 13, 14, 15, 16, 17, 18, 10, 11, 12, 13, 14, 15, 16, 17, 18, 19, 11, 12, 13, 14, 15, 16, 17, 18, 19, 20, 12, 13, 14, 15, 16, 17, 18, 19, 20, 21, 13, 14, 15, 16, 17, 18, 19, 20, 21, 22, 14, 15, 16, 17, 18, 19, 20, 21, 22, 23, 15, 16, 17, 18, 19, 20, 21, 22, 23, 24, 16, 17, 18, 19, 20, 21, 22, 23, 24, 25, 8, 9, 10, 11, 12, 13, 14, 15, 16, 17, 9, 10, 11, 12, 13, 14, 15, 16, 17, 18, 10, 11, 12, 13, 14, 15, 16, 17, 18, 19, 11, 12, 13, 14, 15, 16, 17, 18, 19, 20, 12, 13, 14, 15, 16, 17, 18, 19, 20, 21, 13, 14, 15, 16, 17, 18, 19, 20, 21, 22, 14, 15, 16, 17, 18, 19, 20, 21, 22, 23, 15, 16, 17, 18, 19, 20, 21, 22, 23, 24, 16, 17, 18, 19, 20, 21, 22, 23, 24, 25, 17, 18, 19, 20, 21, 22, 23, 24, 25, 26, 9, 10, 11, 12, 13, 14, 15, 16, 17, 18, 10, 11, 12, 13, 14, 15, 16, 17, 18, 19, 11, 12, 13, 14, 15, 16, 17, 18, 19, 20, 12, 13, 14, 15, 16, 17, 18, 19, 20, 21, 13, 14, 15, 16, 17, 18, 19, 20, 21, 22, 14, 15, 16, 17, 18, 19, 20, 21, 22, 23, 15, 16, 17, 18, 19, 20, 21, 22, 23, 24, 16, 17, 18, 19, 20, 21, 22, 23, 24, 25, 17, 18, 19, 20, 21, 22, 23, 24, 25, 26, 18, 19, 20, 21, 22, 23, 24, 25, 26, 27, 1]\n"
     ]
    }
   ],
   "source": [
    "\"\"\"\n",
    "39. Develop a program that calculates the sum of the digits of numbers from 1 to 1000 using list\n",
    "comprehension.\n",
    "\"\"\"\n",
    "\n",
    "l = [sum(int(dig) for dig in str(i)) for i in range(1,1001)]\n",
    "print(l)"
   ]
  },
  {
   "cell_type": "code",
   "execution_count": null,
   "id": "12a20aa8-25e0-4183-a7a0-1621e4985b1d",
   "metadata": {},
   "outputs": [],
   "source": [
    "\"\"\"\n",
    "40. Write a program that generates a list of prime palindromic numbers using list comprehension\n",
    "\"\"\"\n",
    "\n",
    "def is_prime(n):\n",
    "    if n <2:\n",
    "        return False\n",
    "    for i in range(2,n//2+1):\n",
    "        if n%i == 0:\n",
    "            return False\n",
    "    return True\n",
    "\n",
    "def is_palindrome(n):\n",
    "    return str(n) == str(n)[::-1]\n",
    "\n",
    "l = [i for i in range(2,1000) if is]"
   ]
  }
 ],
 "metadata": {
  "kernelspec": {
   "display_name": "Python 3 (ipykernel)",
   "language": "python",
   "name": "python3"
  },
  "language_info": {
   "codemirror_mode": {
    "name": "ipython",
    "version": 3
   },
   "file_extension": ".py",
   "mimetype": "text/x-python",
   "name": "python",
   "nbconvert_exporter": "python",
   "pygments_lexer": "ipython3",
   "version": "3.10.8"
  }
 },
 "nbformat": 4,
 "nbformat_minor": 5
}
